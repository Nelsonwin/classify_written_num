{
 "cells": [
  {
   "cell_type": "code",
   "execution_count": 1,
   "metadata": {},
   "outputs": [],
   "source": [
    "import numpy as np\n",
    "import matplotlib.pyplot as plt\n",
    "import joblib"
   ]
  },
  {
   "cell_type": "code",
   "execution_count": 2,
   "metadata": {},
   "outputs": [],
   "source": [
    "from keras.datasets import mnist"
   ]
  },
  {
   "cell_type": "code",
   "execution_count": 3,
   "metadata": {},
   "outputs": [],
   "source": [
    "hand_written = mnist.load_data()\n",
    "(X_train_3d, y_train), (X_test_3d, y_test) = mnist.load_data()"
   ]
  },
  {
   "cell_type": "code",
   "execution_count": 4,
   "metadata": {},
   "outputs": [],
   "source": [
    "X_train_2d = X_train_3d.reshape(60000, 784)\n",
    "\n",
    "X_test_2d = X_test_3d.reshape(10000, 784)"
   ]
  },
  {
   "cell_type": "code",
   "execution_count": 5,
   "metadata": {},
   "outputs": [],
   "source": [
    "cv = joblib.load('classifier.joblib')"
   ]
  },
  {
   "cell_type": "code",
   "execution_count": 8,
   "metadata": {},
   "outputs": [
    {
     "data": {
      "image/png": "[encoded data removed]",
      "text/plain": [
       "<Figure size 432x288 with 1 Axes>"
      ]
     },
     "metadata": {
      "needs_background": "light"
     },
     "output_type": "display_data"
    },
    {
     "data": {
      "image/png": "[encoded data removed]",
      "text/plain": [
       "<Figure size 432x288 with 1 Axes>"
      ]
     },
     "metadata": {
      "needs_background": "light"
     },
     "output_type": "display_data"
    },
    {
     "data": {
      "image/png": "[encoded data removed]",
      "text/plain": [
       "<Figure size 432x288 with 1 Axes>"
      ]
     },
     "metadata": {
      "needs_background": "light"
     },
     "output_type": "display_data"
    },
    {
     "name": "stdout",
     "output_type": "stream",
     "text": [
      "The numbers are:\n",
      "  - 3\n",
      "  - 3\n",
      "  - 3\n"
     ]
    }
   ],
   "source": [
    "no_preds = 3\n",
    "\n",
    "rand_inds = [int(np.random.random() * 1798) for i in range(no_preds)]\n",
    "\n",
    "\n",
    "for i in rand_inds:\n",
    "    img = X_test_3d[i]\n",
    "    plt.imshow(img, cmap=plt.cm.gray_r, interpolation='nearest')\n",
    "    plt.show()\n",
    "\n",
    "z = X_test_2d[rand_inds[0]]\n",
    "rand_inds.pop(0)\n",
    "\n",
    "for i in rand_inds:\n",
    "    z = np.vstack([z, X_test_2d[i]])\n",
    "\n",
    "predictions = cv.predict(z)\n",
    "\n",
    "print('The numbers are:')\n",
    "\n",
    "for prediction in predictions:\n",
    "    print('  -', prediction)\n"
   ]
  }
 ],
 "metadata": {
  "interpreter": {
   "hash": "062ebaf9e8ce946ecb972b965e6051e43711dd5038533bfb279bad98a32189cd"
  },
  "kernelspec": {
   "display_name": "Python 3.10.4 64-bit",
   "language": "python",
   "name": "python3"
  },
  "language_info": {
   "codemirror_mode": {
    "name": "ipython",
    "version": 3
   },
   "file_extension": ".py",
   "mimetype": "text/x-python",
   "name": "python",
   "nbconvert_exporter": "python",
   "pygments_lexer": "ipython3",
   "version": "3.10.4"
  },
  "orig_nbformat": 4
 },
 "nbformat": 4,
 "nbformat_minor": 2
}
